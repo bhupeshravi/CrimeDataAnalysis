{
 "cells": [
  {
   "cell_type": "code",
   "execution_count": 75,
   "metadata": {},
   "outputs": [],
   "source": [
    "import pandas as pd\n",
    "import matplotlib.pyplot as plt\n",
    "import numpy as np\n",
    "import datetime as dt\n",
    "# plt.style.use('ggplot')\n",
    "%matplotlib inline\n",
    "\n",
    "department_data = pd.read_csv('police_department_data.csv')\n",
    "department_data['crime_date'] = pd.to_datetime(department_data['crime_date'])\n",
    "department_data['location'] = [eval(location) for location in department_data['location']]"
   ]
  },
  {
   "cell_type": "code",
   "execution_count": 70,
   "metadata": {},
   "outputs": [
    {
     "name": "stdout",
     "output_type": "stream",
     "text": [
      "Dimension: (150500, 9)\n"
     ]
    },
    {
     "data": {
      "text/html": [
       "<div>\n",
       "<style scoped>\n",
       "    .dataframe tbody tr th:only-of-type {\n",
       "        vertical-align: middle;\n",
       "    }\n",
       "\n",
       "    .dataframe tbody tr th {\n",
       "        vertical-align: top;\n",
       "    }\n",
       "\n",
       "    .dataframe thead th {\n",
       "        text-align: right;\n",
       "    }\n",
       "</style>\n",
       "<table border=\"1\" class=\"dataframe\">\n",
       "  <thead>\n",
       "    <tr style=\"text-align: right;\">\n",
       "      <th></th>\n",
       "      <th>incident_id</th>\n",
       "      <th>category</th>\n",
       "      <th>crime_description</th>\n",
       "      <th>crime_date</th>\n",
       "      <th>department_district</th>\n",
       "      <th>resolution</th>\n",
       "      <th>address</th>\n",
       "      <th>department_id</th>\n",
       "      <th>location</th>\n",
       "    </tr>\n",
       "  </thead>\n",
       "  <tbody>\n",
       "    <tr>\n",
       "      <td>0</td>\n",
       "      <td>120058272</td>\n",
       "      <td>WEAPON LAWS</td>\n",
       "      <td>POSS OF PROHIBITED WEAPON</td>\n",
       "      <td>2016-01-29 11:00:00</td>\n",
       "      <td>SOUTHERN</td>\n",
       "      <td>ARREST, BOOKED</td>\n",
       "      <td>800 Block of BRYANT ST</td>\n",
       "      <td>12005827212120</td>\n",
       "      <td>(37.775420706711, -122.403404791479)</td>\n",
       "    </tr>\n",
       "    <tr>\n",
       "      <td>1</td>\n",
       "      <td>120058272</td>\n",
       "      <td>WEAPON LAWS</td>\n",
       "      <td>FIREARM, LOADED, IN VEHICLE, POSSESSION OR USE</td>\n",
       "      <td>2016-01-29 11:00:00</td>\n",
       "      <td>SOUTHERN</td>\n",
       "      <td>ARREST, BOOKED</td>\n",
       "      <td>800 Block of BRYANT ST</td>\n",
       "      <td>12005827212168</td>\n",
       "      <td>(37.775420706711, -122.403404791479)</td>\n",
       "    </tr>\n",
       "    <tr>\n",
       "      <td>2</td>\n",
       "      <td>141059263</td>\n",
       "      <td>WARRANTS</td>\n",
       "      <td>WARRANT ARREST</td>\n",
       "      <td>2016-04-25 14:59:00</td>\n",
       "      <td>BAYVIEW</td>\n",
       "      <td>ARREST, BOOKED</td>\n",
       "      <td>KEITH ST / SHAFTER AV</td>\n",
       "      <td>14105926363010</td>\n",
       "      <td>(37.7299809672996, -122.388856204292)</td>\n",
       "    </tr>\n",
       "    <tr>\n",
       "      <td>3</td>\n",
       "      <td>160013662</td>\n",
       "      <td>NON-CRIMINAL</td>\n",
       "      <td>LOST PROPERTY</td>\n",
       "      <td>2016-01-05 23:50:00</td>\n",
       "      <td>TENDERLOIN</td>\n",
       "      <td>NONE</td>\n",
       "      <td>JONES ST / OFARRELL ST</td>\n",
       "      <td>16001366271000</td>\n",
       "      <td>(37.7857883766888, -122.412970537591)</td>\n",
       "    </tr>\n",
       "    <tr>\n",
       "      <td>4</td>\n",
       "      <td>160002740</td>\n",
       "      <td>NON-CRIMINAL</td>\n",
       "      <td>LOST PROPERTY</td>\n",
       "      <td>2016-01-01 00:30:00</td>\n",
       "      <td>MISSION</td>\n",
       "      <td>NONE</td>\n",
       "      <td>16TH ST / MISSION ST</td>\n",
       "      <td>16000274071000</td>\n",
       "      <td>(37.7650501214668, -122.419671780296)</td>\n",
       "    </tr>\n",
       "  </tbody>\n",
       "</table>\n",
       "</div>"
      ],
      "text/plain": [
       "   incident_id      category                               crime_description  \\\n",
       "0    120058272   WEAPON LAWS                       POSS OF PROHIBITED WEAPON   \n",
       "1    120058272   WEAPON LAWS  FIREARM, LOADED, IN VEHICLE, POSSESSION OR USE   \n",
       "2    141059263      WARRANTS                                  WARRANT ARREST   \n",
       "3    160013662  NON-CRIMINAL                                   LOST PROPERTY   \n",
       "4    160002740  NON-CRIMINAL                                   LOST PROPERTY   \n",
       "\n",
       "           crime_date department_district      resolution  \\\n",
       "0 2016-01-29 11:00:00            SOUTHERN  ARREST, BOOKED   \n",
       "1 2016-01-29 11:00:00            SOUTHERN  ARREST, BOOKED   \n",
       "2 2016-04-25 14:59:00             BAYVIEW  ARREST, BOOKED   \n",
       "3 2016-01-05 23:50:00          TENDERLOIN            NONE   \n",
       "4 2016-01-01 00:30:00             MISSION            NONE   \n",
       "\n",
       "                  address   department_id  \\\n",
       "0  800 Block of BRYANT ST  12005827212120   \n",
       "1  800 Block of BRYANT ST  12005827212168   \n",
       "2   KEITH ST / SHAFTER AV  14105926363010   \n",
       "3  JONES ST / OFARRELL ST  16001366271000   \n",
       "4    16TH ST / MISSION ST  16000274071000   \n",
       "\n",
       "                                location  \n",
       "0   (37.775420706711, -122.403404791479)  \n",
       "1   (37.775420706711, -122.403404791479)  \n",
       "2  (37.7299809672996, -122.388856204292)  \n",
       "3  (37.7857883766888, -122.412970537591)  \n",
       "4  (37.7650501214668, -122.419671780296)  "
      ]
     },
     "execution_count": 70,
     "metadata": {},
     "output_type": "execute_result"
    }
   ],
   "source": [
    "print(\"Dimension:\",department_data.shape)\n",
    "department_data.head()"
   ]
  },
  {
   "cell_type": "code",
   "execution_count": 71,
   "metadata": {},
   "outputs": [
    {
     "data": {
      "text/plain": [
       "array(['WEAPON LAWS', 'WARRANTS', 'NON-CRIMINAL', 'ASSAULT',\n",
       "       'OTHER OFFENSES', 'MISSING PERSON', 'LARCENY/THEFT', 'BURGLARY',\n",
       "       'STOLEN PROPERTY', 'ROBBERY', 'FRAUD', 'DRUG/NARCOTIC',\n",
       "       'VEHICLE THEFT', 'RECOVERED VEHICLE', 'VANDALISM', 'ARSON',\n",
       "       'PROSTITUTION', 'SECONDARY CODES', 'SUSPICIOUS OCC', 'DRUNKENNESS',\n",
       "       'TRESPASS', 'SEX OFFENSES, NON FORCIBLE', 'SEX OFFENSES, FORCIBLE',\n",
       "       'RUNAWAY', 'KIDNAPPING', 'DISORDERLY CONDUCT',\n",
       "       'DRIVING UNDER THE INFLUENCE', 'FORGERY/COUNTERFEITING',\n",
       "       'EMBEZZLEMENT', 'BRIBERY', 'FAMILY OFFENSES', 'GAMBLING',\n",
       "       'SUICIDE', 'LIQUOR LAWS', 'EXTORTION', 'LOITERING', 'TREA',\n",
       "       'BAD CHECKS', 'PORNOGRAPHY/OBSCENE MAT'], dtype=object)"
      ]
     },
     "execution_count": 71,
     "metadata": {},
     "output_type": "execute_result"
    }
   ],
   "source": [
    "department_data['category'].unique()"
   ]
  },
  {
   "cell_type": "markdown",
   "metadata": {},
   "source": [
    "## EDA"
   ]
  },
  {
   "cell_type": "code",
   "execution_count": 72,
   "metadata": {},
   "outputs": [
    {
     "name": "stdout",
     "output_type": "stream",
     "text": [
      "incident_id 0\n",
      "category 0\n",
      "crime_description 0\n",
      "crime_date 0\n",
      "department_district 1\n",
      "resolution 0\n",
      "address 0\n",
      "department_id 0\n",
      "location 0\n"
     ]
    }
   ],
   "source": [
    "for feature in department_data.columns:\n",
    "    print(feature, department_data[feature].isnull().sum())"
   ]
  },
  {
   "cell_type": "code",
   "execution_count": 76,
   "metadata": {},
   "outputs": [
    {
     "data": {
      "text/plain": [
       "<matplotlib.axes._subplots.AxesSubplot at 0x157eab5d470>"
      ]
     },
     "execution_count": 76,
     "metadata": {},
     "output_type": "execute_result"
    },
    {
     "data": {
      "image/png": "[encoded data removed]",
      "text/plain": [
       "<Figure size 864x576 with 1 Axes>"
      ]
     },
     "metadata": {
      "needs_background": "light"
     },
     "output_type": "display_data"
    }
   ],
   "source": [
    "plt.figure(figsize = (12,8))\n",
    "plt.xlabel('District', fontsize=18)\n",
    "plt.ylabel('Occurance', fontsize=18)\n",
    "department_data['department_district'].hist(bins = 40)"
   ]
  },
  {
   "cell_type": "code",
   "execution_count": 77,
   "metadata": {},
   "outputs": [
    {
     "data": {
      "text/plain": [
       "<matplotlib.axes._subplots.AxesSubplot at 0x157f18487b8>"
      ]
     },
     "execution_count": 77,
     "metadata": {},
     "output_type": "execute_result"
    },
    {
     "data": {
      "image/png": "[encoded data removed]",
      "text/plain": [
       "<Figure size 1152x576 with 1 Axes>"
      ]
     },
     "metadata": {
      "needs_background": "light"
     },
     "output_type": "display_data"
    }
   ],
   "source": [
    "plt.figure(figsize = (16,8))\n",
    "department_data['category'].value_counts().plot.bar(stacked=True)"
   ]
  },
  {
   "cell_type": "code",
   "execution_count": 78,
   "metadata": {
    "scrolled": true
   },
   "outputs": [
    {
     "data": {
      "text/plain": [
       "LARCENY/THEFT                  40409\n",
       "OTHER OFFENSES                 19599\n",
       "NON-CRIMINAL                   17866\n",
       "ASSAULT                        13577\n",
       "VANDALISM                       8589\n",
       "VEHICLE THEFT                   6419\n",
       "WARRANTS                        5914\n",
       "BURGLARY                        5802\n",
       "SUSPICIOUS OCC                  5782\n",
       "MISSING PERSON                  4338\n",
       "DRUG/NARCOTIC                   4243\n",
       "ROBBERY                         3299\n",
       "FRAUD                           2635\n",
       "SECONDARY CODES                 1841\n",
       "TRESPASS                        1812\n",
       "WEAPON LAWS                     1658\n",
       "SEX OFFENSES, FORCIBLE           940\n",
       "STOLEN PROPERTY                  882\n",
       "RECOVERED VEHICLE                736\n",
       "DISORDERLY CONDUCT               658\n",
       "PROSTITUTION                     641\n",
       "FORGERY/COUNTERFEITING           619\n",
       "DRUNKENNESS                      465\n",
       "DRIVING UNDER THE INFLUENCE      378\n",
       "ARSON                            286\n",
       "KIDNAPPING                       257\n",
       "EMBEZZLEMENT                     168\n",
       "LIQUOR LAWS                      156\n",
       "RUNAWAY                          140\n",
       "SUICIDE                           69\n",
       "BRIBERY                           66\n",
       "EXTORTION                         60\n",
       "FAMILY OFFENSES                   53\n",
       "LOITERING                         42\n",
       "SEX OFFENSES, NON FORCIBLE        40\n",
       "BAD CHECKS                        34\n",
       "GAMBLING                          20\n",
       "PORNOGRAPHY/OBSCENE MAT            4\n",
       "TREA                               3\n",
       "Name: category, dtype: int64"
      ]
     },
     "execution_count": 78,
     "metadata": {},
     "output_type": "execute_result"
    }
   ],
   "source": [
    "department_data['category'].value_counts()"
   ]
  },
  {
   "cell_type": "code",
   "execution_count": 79,
   "metadata": {},
   "outputs": [
    {
     "data": {
      "text/plain": [
       "<matplotlib.axes._subplots.AxesSubplot at 0x157f0898eb8>"
      ]
     },
     "execution_count": 79,
     "metadata": {},
     "output_type": "execute_result"
    },
    {
     "data": {
      "image/png": "[encoded data removed]",
      "text/plain": [
       "<Figure size 432x288 with 1 Axes>"
      ]
     },
     "metadata": {
      "needs_background": "light"
     },
     "output_type": "display_data"
    }
   ],
   "source": [
    "department_data['crime_date'].groupby(department_data.crime_date.dt.month).agg('count').plot.line()"
   ]
  },
  {
   "cell_type": "code",
   "execution_count": 80,
   "metadata": {},
   "outputs": [
    {
     "data": {
      "text/html": [
       "<div>\n",
       "<style scoped>\n",
       "    .dataframe tbody tr th:only-of-type {\n",
       "        vertical-align: middle;\n",
       "    }\n",
       "\n",
       "    .dataframe tbody tr th {\n",
       "        vertical-align: top;\n",
       "    }\n",
       "\n",
       "    .dataframe thead th {\n",
       "        text-align: right;\n",
       "    }\n",
       "</style>\n",
       "<table border=\"1\" class=\"dataframe\">\n",
       "  <thead>\n",
       "    <tr style=\"text-align: right;\">\n",
       "      <th></th>\n",
       "      <th>Top Crime locations</th>\n",
       "    </tr>\n",
       "  </thead>\n",
       "  <tbody>\n",
       "    <tr>\n",
       "      <td>800 Block of BRYANT ST</td>\n",
       "      <td>3561</td>\n",
       "    </tr>\n",
       "    <tr>\n",
       "      <td>800 Block of MARKET ST</td>\n",
       "      <td>1405</td>\n",
       "    </tr>\n",
       "    <tr>\n",
       "      <td>1000 Block of POTRERO AV</td>\n",
       "      <td>644</td>\n",
       "    </tr>\n",
       "    <tr>\n",
       "      <td>900 Block of MARKET ST</td>\n",
       "      <td>547</td>\n",
       "    </tr>\n",
       "    <tr>\n",
       "      <td>0 Block of UNITEDNATIONS PZ</td>\n",
       "      <td>452</td>\n",
       "    </tr>\n",
       "    <tr>\n",
       "      <td>500 Block of JOHNFKENNEDY DR</td>\n",
       "      <td>448</td>\n",
       "    </tr>\n",
       "    <tr>\n",
       "      <td>3200 Block of 20TH AV</td>\n",
       "      <td>431</td>\n",
       "    </tr>\n",
       "    <tr>\n",
       "      <td>600 Block of VALENCIA ST</td>\n",
       "      <td>399</td>\n",
       "    </tr>\n",
       "    <tr>\n",
       "      <td>100 Block of OFARRELL ST</td>\n",
       "      <td>389</td>\n",
       "    </tr>\n",
       "    <tr>\n",
       "      <td>1100 Block of FILLMORE ST</td>\n",
       "      <td>382</td>\n",
       "    </tr>\n",
       "    <tr>\n",
       "      <td>300 Block of EDDY ST</td>\n",
       "      <td>347</td>\n",
       "    </tr>\n",
       "    <tr>\n",
       "      <td>0 Block of 6TH ST</td>\n",
       "      <td>347</td>\n",
       "    </tr>\n",
       "    <tr>\n",
       "      <td>800 Block of MISSION ST</td>\n",
       "      <td>345</td>\n",
       "    </tr>\n",
       "    <tr>\n",
       "      <td>16TH ST / MISSION ST</td>\n",
       "      <td>343</td>\n",
       "    </tr>\n",
       "    <tr>\n",
       "      <td>700 Block of MISSION ST</td>\n",
       "      <td>336</td>\n",
       "    </tr>\n",
       "  </tbody>\n",
       "</table>\n",
       "</div>"
      ],
      "text/plain": [
       "                              Top Crime locations\n",
       "800 Block of BRYANT ST                       3561\n",
       "800 Block of MARKET ST                       1405\n",
       "1000 Block of POTRERO AV                      644\n",
       "900 Block of MARKET ST                        547\n",
       "0 Block of UNITEDNATIONS PZ                   452\n",
       "500 Block of JOHNFKENNEDY DR                  448\n",
       "3200 Block of 20TH AV                         431\n",
       "600 Block of VALENCIA ST                      399\n",
       "100 Block of OFARRELL ST                      389\n",
       "1100 Block of FILLMORE ST                     382\n",
       "300 Block of EDDY ST                          347\n",
       "0 Block of 6TH ST                             347\n",
       "800 Block of MISSION ST                       345\n",
       "16TH ST / MISSION ST                          343\n",
       "700 Block of MISSION ST                       336"
      ]
     },
     "execution_count": 80,
     "metadata": {},
     "output_type": "execute_result"
    }
   ],
   "source": [
    "department_data['address'].value_counts()[:15].to_frame('Top Crime locations')"
   ]
  },
  {
   "cell_type": "code",
   "execution_count": 83,
   "metadata": {},
   "outputs": [],
   "source": [
    "department_data['City'] = np.NaN\n",
    "department_data['State'] = np.NaN\n",
    "department_data['Country'] = np.NaN\n",
    "from geopy.geocoders import Nominatim\n",
    "geolocator = Nominatim(user_agent=\"myGeolocator\")"
   ]
  },
  {
   "cell_type": "code",
   "execution_count": 88,
   "metadata": {},
   "outputs": [],
   "source": [
    "for item in range(0,len(department_data['location'])):\n",
    "    location = geolocator.reverse(department_data['location'][item])\n",
    "    department_data['City'][item],department_data['State'][item],department_data['Country'][item] = location.raw['address']['city'],location.raw['address']['state'],location.raw['address']['country_code']"
   ]
  },
  {
   "cell_type": "code",
   "execution_count": 66,
   "metadata": {},
   "outputs": [
    {
     "data": {
      "text/plain": [
       "{'house_number': '1247;1249',\n",
       " 'road': '19th Avenue',\n",
       " 'neighbourhood': 'Inner Sunset',\n",
       " 'city': 'San Francisco',\n",
       " 'county': 'San Francisco City and County',\n",
       " 'state': 'California',\n",
       " 'postcode': '94122',\n",
       " 'country': 'United States of America',\n",
       " 'country_code': 'us'}"
      ]
     },
     "execution_count": 66,
     "metadata": {},
     "output_type": "execute_result"
    }
   ],
   "source": [
    "location.raw['address']"
   ]
  }
 ],
 "metadata": {
  "kernelspec": {
   "display_name": "Python 3",
   "language": "python",
   "name": "python3"
  },
  "language_info": {
   "codemirror_mode": {
    "name": "ipython",
    "version": 3
   },
   "file_extension": ".py",
   "mimetype": "text/x-python",
   "name": "python",
   "nbconvert_exporter": "python",
   "pygments_lexer": "ipython3",
   "version": "3.7.1"
  }
 },
 "nbformat": 4,
 "nbformat_minor": 2
}
